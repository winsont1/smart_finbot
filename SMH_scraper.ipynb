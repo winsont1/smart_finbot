{
 "cells": [
  {
   "cell_type": "code",
   "execution_count": 32,
   "id": "eca47adb-d86d-4639-a884-74ab4f438c9b",
   "metadata": {},
   "outputs": [
    {
     "name": "stdout",
     "output_type": "stream",
     "text": [
      "Summary of the day's financial news:\n",
      "1. **ASX Edges Up Ahead of Key Jobs Report**:\n",
      "   The Australian stock market (ASX) saw a modest rise as Wall Street experienced mixed trading, with indexes slipping ahead of a crucial employment data release.\n",
      "\n",
      "2. **China Faces Economic Challenges**:\n",
      "   China is grappling with significant economic issues as consumer spending declines and investors withdraw billions, potentially leading to a prolonged period of economic stagnation.\n",
      "\n",
      "3. **ASX Gains Despite US Market Losses**:\n",
      "   The ASX closed higher, buoyed by gains in IT and property stocks, despite a slowdown in losses on Wall Street following a significant sell-off.\n",
      "\n",
      "4. **Lincoln Minerals Explores Uranium in SA**:\n",
      "   Lincoln Minerals has commenced exploration for uranium at the Yallunda project in South Australia, targeting a 7km-long surface anomaly.\n",
      "\n",
      "5. **Interest Rates Likely to Hold Steady in Australia**:\n",
      "   The Reserve Bank of Australia is expected to keep interest rates unchanged, viewing the current economic slowdown as a positive, steadying factor.\n",
      "\n",
      "6. **Small Businesses Face Unexpected Costs**:\n",
      "   Australian small businesses are under financial strain, having incurred $7 billion in unexpected costs over the past year amid a sluggish economy.\n",
      "\n",
      "7. **ASX Slumps Following Wall Street Decline**:\n",
      "   The ASX experienced a downturn, mirroring Wall Street's worst session since August, driven by concerns over a potential economic slowdown in the US.\n",
      "\n",
      "8. **Biden to Block Nippon Steel's Takeover of US Steel**:\n",
      "   President Biden is preparing to block Nippon Steel's $22 billion acquisition of US Steel, which would have created the third-largest global steelmaker.\n",
      "\n",
      "9. **End of Nearly Cost-Free Mortgages in Japan**:\n",
      "   Japan's central bank is ending the era of zero interest rates, signaling a shift for homeowners who have benefited from nearly cost-free mortgages.\n",
      "\n",
      "10. **Australia’s Richest Barrister Invests in City Real Estate**:\n",
      "   Allan Myers KC has made a significant investment in an east end tower, diversifying from his usual agricultural interests.\n",
      "\n",
      "11. **Housing Insecurity in Sydney**:\n",
      "   A survey reveals that nearly three-quarters of Sydney households are cutting back on spending for their children due to housing insecurity.\n",
      "\n",
      "12. **Australia’s Economic Snapshot**:\n",
      "   Recent national accounts indicate the Australian economy is teetering on the edge of a recession, with the Reserve Bank responding to long-standing issues.\n",
      "\n",
      "13. **Potential Wealth for Millennials**:\n",
      "   ASIC suggests that millennials could be $50,000 richer by retirement if super funds engage more effectively with young customers.\n",
      "\n",
      "14. **Shale Fracking's Impact on the West**:\n",
      "   The shale revolution, driven by US fracking technology, has significantly influenced global energy dynamics.\n",
      "\n",
      "15. **New Billionaire in Australian Business**:\n",
      "   Robin Khuda has rapidly grown his company to a $23 billion valuation in nine years, marking one of Australia's largest business success stories.\n"
     ]
    }
   ],
   "source": [
    "import feedparser\n",
    "from openai import OpenAI \n",
    "\n",
    "client = OpenAI(api_key = OPEN_API_KEY)\n",
    "\n",
    "# URL of the RSS feed\n",
    "rss_url = \"https://www.smh.com.au/rss/business.xml\"\n",
    "\n",
    "def fetch_rss_entries(rss_url):\n",
    "    # Parse the RSS feed\n",
    "    feed = feedparser.parse(rss_url)\n",
    "    # print(feed)\n",
    "    entries = feed.entries\n",
    "    return entries\n",
    "\n",
    "def get_title_summary(entries):\n",
    "    entries_list = []\n",
    "    for entry in entries:\n",
    "        dict = {}\n",
    "        dict['title'] = entry.title \n",
    "        dict['summary'] = entry.summary\n",
    "        entries_list.append(dict)\n",
    "    return(entries_list)\n",
    "\n",
    "def summarize_news_with_chatgpt(articles):        \n",
    "    prompt = (\n",
    "        \"Summarize the following financial news articles in a concise manner (without special characters), highlighting the key stories which can move the Australian and APAC (Asia Pacific) markets:\\n\\n\" \n",
    "        + str(articles)\n",
    "    )\n",
    "    \n",
    "    try:\n",
    "        response = client.chat.completions.create(\n",
    "            model=\"gpt-4o\",  # Use GPT-4o-mini/gpt-3.5-turbo for the latest model\n",
    "            messages=[\n",
    "                {\"role\": \"system\", \"content\": \"You are a financial expert summarizing daily financial news for the Australian and APAC (Asia Pacific) stock markets.\"},\n",
    "                {\"role\": \"user\", \"content\": prompt},\n",
    "            ],\n",
    "            max_tokens=900,\n",
    "            temperature=0.5,\n",
    "        )\n",
    "        return response.choices[0].message.content        \n",
    "        # return response['choices'][0]['message']['content'].strip()\n",
    "    except Exception as e:\n",
    "        return f\"Error: {e}\"\n",
    "\n",
    "if __name__ == \"__main__\":\n",
    "    # Fetch the RSS feed entries\n",
    "    entries = fetch_rss_entries(rss_url)\n",
    "\n",
    "    # print(entries)\n",
    "\n",
    "\n",
    "    # # Summarize the news using ChatGPT\n",
    "    if entries:\n",
    "        title_summaries = get_title_summary(entries)\n",
    "        summary = summarize_news_with_chatgpt(title_summaries)\n",
    "        print(\"Summary of the day's financial news:\")\n",
    "        print(summary)\n",
    "    else:\n",
    "        print(\"No news entries found.\")\n"
   ]
  },
  {
   "cell_type": "code",
   "execution_count": 7,
   "id": "7001b9bf-d571-4a30-a258-cd66b0624259",
   "metadata": {},
   "outputs": [
    {
     "data": {
      "text/plain": [
       "'With the antimony price surging, Dart Mining has revived its hunt for the metal at its Victorian gold projects in a region with a rich history for the commodity.'"
      ]
     },
     "execution_count": 7,
     "metadata": {},
     "output_type": "execute_result"
    }
   ],
   "source": [
    "entries[0].summary"
   ]
  },
  {
   "cell_type": "code",
   "execution_count": 11,
   "id": "2f161381-3c90-43e7-9889-a573e9b019c1",
   "metadata": {},
   "outputs": [],
   "source": [
    "title_summaries = get_title_summary(entries)\n"
   ]
  },
  {
   "cell_type": "code",
   "execution_count": 12,
   "id": "edf88dc4-5b5f-49ae-894e-59e29b164ff9",
   "metadata": {},
   "outputs": [
    {
     "data": {
      "text/plain": [
       "[{'title': 'Dart revives hot commodity antimony hunt in Victoria',\n",
       "  'summary': 'With the antimony price surging, Dart Mining has revived its hunt for the metal at its Victorian gold projects in a region with a rich history for the commodity.'},\n",
       " {'title': 'ASX drops sharply as Wall Street dives; Miners, banks, tech stocks decline',\n",
       "  'summary': 'The Australian sharemarket is slumping after Wall Street had its worst session since the August 5 market meltdown amid concerns about a slowdown in the world’s largest economy.'},\n",
       " {'title': 'Hastings posts eye-catching maiden WA niobium resource',\n",
       "  'summary': 'Hastings Technology Metals has revealed a maiden 6.7 million-tonne niobium resource estimate in WA, grading 0.23 per cent for 15,501 tonnes of contained metal.'},\n",
       " {'title': 'Pressure on the Fed is mounting as sharemarkets spiral again',\n",
       "  'summary': 'Nearly a month ago, Wall Street plunged in response to a shock set of US job figures. Overnight, the market plunged again, in expectation of more bleak numbers this week.'},\n",
       " {'title': 'Cathay Pacific grounds planes, finds 15 A350s need engine parts replaced',\n",
       "  'summary': 'The airline inspected its entire A350 fleet after a leak in a fuel system reportedly caused an engine fire on a flight bound for Zurich.'},\n",
       " {'title': 'Coles set to axe Vintage Cellars and First Choice brands as it takes fight to Dan Murphy’s',\n",
       "  'summary': 'The country’s second largest supermarket retailer is making a dramatic shift as it looks to claw back market share lost to the group behind Dan Murphy’s and BWS.'},\n",
       " {'title': 'Wall Street darling suffers record $416 billion meltdown in one day',\n",
       "  'summary': 'The value of AI powerhouse Nvidia just fell by the equivalent of the total value of energy giant Chevron in a single session.'},\n",
       " {'title': 'Private health insurance premiums tipped to jump as claims rise',\n",
       "  'summary': 'Australia’s largest private health insurers say premiums need to rise significantly, but not their own payments to private hospitals.'},\n",
       " {'title': 'I’d like to give my parents $400,000. Will it affect their age pension?',\n",
       "  'summary': 'My parents are concerned they will lose the pension after receiving my gift.'},\n",
       " {'title': 'Albo’s lack of courage makes headlines, but doesn’t tell the full story of his government',\n",
       "  'summary': 'People often don’t realise how obsessed governments become with how their opponents will react to anything they do or say. Albo seems to have a bad case of this.'},\n",
       " {'title': 'Why economists worry about Trumpflation',\n",
       "  'summary': 'Despite Kamala Harris’ ascent in the polls, it remains quite possible that Donald Trump will win the US election. And if he does, inflation in the world’s largest economy may become a major problem again.'},\n",
       " {'title': 'ASX wobbles as Woolies trades ex-dividend, current account deficit widens',\n",
       "  'summary': 'The Australian sharemarket was treading water on Tuesday after economic data showed that falling commodity prices have pushed Australia into its biggest current account deficit in six years.'},\n",
       " {'title': 'Guardian Australia journalists threaten to walk out over pay negotiations',\n",
       "  'summary': 'Staff have voted to take protected industrial action after negotiations with management over its latest pay deal hit an impasse.'},\n",
       " {'title': 'Aguia on track for rapid reopening of Columbian gold mine',\n",
       "  'summary': 'Aguia Resources is charging towards production at its Santa Barbara gold project in Colombia, with key project procurements ahead of looming development.'},\n",
       " {'title': 'Dr Norman Swan skewers ‘breathtaking incompetence’ of ABC app woes',\n",
       "  'summary': 'The long-time radio host and medical expert has criticised the broadcaster after an update to its listen app disrupted services.'},\n",
       " {'title': 'Australia is engaging in a damaging economic blame game',\n",
       "  'summary': 'Informed debate on the economy has been overtaken by populist rhetoric feeding an overblown distrust of institutions.'},\n",
       " {'title': 'Elevate Uranium hit in Namibia shows world-class potential',\n",
       "  'summary': 'In this week’s Bulls N’ Bears Big Hits, we examine some of the notable drill intersections revealed on the ASX, such as Elevate Uranium’s oxide hit in Namibia.'},\n",
       " {'title': 'Atomos steadies ship in financial results reveal',\n",
       "  'summary': 'A leadership restructure at Atomos and a new product suite has led to a significant turnaround in financial fortunes for the video technology innovator.'},\n",
       " {'title': 'Golden Deeps flies on massive NSW copper-zinc sulphide hit',\n",
       "  'summary': 'Golden Deeps’ share price has soared more than 237 per cent after it nailed an 80m hit with up to 18.5 per cent copper and 34.8 per cent zinc in New South Wales.'},\n",
       " {'title': 'Xi Jinping has no plan B as the mood in China darkens',\n",
       "  'summary': 'China’s economic mess is weighing heavily on Australia and the rest of the world. Added to Beijing’s concerns is the prospect of Donald Trump returning to the White House.'}]"
      ]
     },
     "execution_count": 12,
     "metadata": {},
     "output_type": "execute_result"
    }
   ],
   "source": [
    "title_summaries"
   ]
  },
  {
   "cell_type": "code",
   "execution_count": null,
   "id": "2f23fa8a-1447-4860-8d89-2682070fce4a",
   "metadata": {},
   "outputs": [],
   "source": []
  }
 ],
 "metadata": {
  "kernelspec": {
   "display_name": "Python 3 (ipykernel)",
   "language": "python",
   "name": "python3"
  },
  "language_info": {
   "codemirror_mode": {
    "name": "ipython",
    "version": 3
   },
   "file_extension": ".py",
   "mimetype": "text/x-python",
   "name": "python",
   "nbconvert_exporter": "python",
   "pygments_lexer": "ipython3",
   "version": "3.12.4"
  }
 },
 "nbformat": 4,
 "nbformat_minor": 5
}
